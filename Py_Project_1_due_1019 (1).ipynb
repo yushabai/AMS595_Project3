{
  "cells": [
    {
      "cell_type": "markdown",
      "metadata": {
        "id": "xq__bChjD04e"
      },
      "source": [
        "# Python Assignment 1"
      ]
    },
    {
      "cell_type": "markdown",
      "metadata": {
        "id": "y7j2V0UDMYLG"
      },
      "source": [
        "⏱⏱⏱**Due: 10/19/2025 11:59:59 PM** ⏱⏱⏱\n",
        "\n",
        "Submit this notebook file and upload it to your git repo. Include a link to your git repo while submitting this file to Brightspace.\n",
        "\n",
        "You are not allowed to use chatgpt or any LLM in this assignment.\n",
        "Cooperation is allowed and encouraged; however, you must write up and submit your own work. If you cooperate with others, you must list their names here."
      ]
    },
    {
      "cell_type": "markdown",
      "metadata": {
        "id": "SUS30Ew9D04n"
      },
      "source": [
        "Total points: 100 (equivalent to 20 points after conversion)"
      ]
    },
    {
      "cell_type": "markdown",
      "metadata": {
        "id": "b_bgT3b2GYTB"
      },
      "source": [
        "## 0. Data Types, Structures, Indexing, and Slicing"
      ]
    },
    {
      "cell_type": "markdown",
      "metadata": {
        "id": "6yI1Jt57IwV2"
      },
      "source": [
        "Read the lecutre note as well as [this page](https://www.geeksforgeeks.org/mutable-vs-immutable-objects-in-python/) and [this page](https://www.geeksforgeeks.org/difference-between-shallow-and-deep-copy-of-a-class/). Complete the following questions.\n",
        "\n",
        "(5 points) Give some examples (at least 2) of mutable objects in Python.\n",
        "\n",
        "***Answer:*** list dict\n",
        "\n",
        "\n",
        "---\n",
        "\n",
        "\n",
        "\n",
        "(5 points) Give some examples (at least 2) of immutable objects in Python.\n",
        "\n",
        "***Answer:*** tuple str\n",
        "\n",
        "\n",
        "---\n",
        "\n",
        "\n",
        "\n",
        "(10 points) State the differences between assignment, shallow copy, and deep copy. Any reasonable answer will get full credit.\n",
        "\n",
        "***Answer:*** Assignment means that two variables refer to the same object in memory.\n",
        "A shallow copy creates a new object but only copies references to the elements inside, so nested objects are still shared.\n",
        "A deep copy creates a completely independent copy of the object and all of its nested elements.\n",
        "\n",
        "\n",
        "---\n",
        "\n",
        "\n",
        "\n"
      ]
    },
    {
      "cell_type": "markdown",
      "metadata": {
        "id": "OA8DxcrrGqZD"
      },
      "source": [
        "(10 points) Using string methods find() and rfind(), find the index of the first digit (i.e. 0) and the index of the last digit (5) in the string below. Then, using string slicing, extract the number (i.e. 0.595595) from this string and convert the extracted value to a floating point number. Print out this float to the console."
      ]
    },
    {
      "cell_type": "code",
      "execution_count": null,
      "metadata": {
        "id": "AUuFXXWqG4D3"
      },
      "outputs": [],
      "source": [
        "text = \"F-DGFDDSFGFD-CFDSHdstgfdfe: tfsd  aaa bdsf 0.595595 fdsgfdbc\";\n"
      ]
    },
    {
      "cell_type": "code",
      "source": [
        "text = \"F-DGFDDSFGFD-CFDSHdstgfdfe: tfsd aaa bdsf 0.595595 fdsgfdbc\"\n",
        "\n",
        "start = text.find('0')\n",
        "end = text.rfind('5')\n",
        "number_str = text[start:end+1]\n",
        "number = float(number_str)\n",
        "print(number)\n"
      ],
      "metadata": {
        "id": "fcCcwyOpetsE",
        "outputId": "84dc6625-050c-4d63-98e8-2c86e528c1aa",
        "colab": {
          "base_uri": "https://localhost:8080/"
        }
      },
      "execution_count": null,
      "outputs": [
        {
          "output_type": "stream",
          "name": "stdout",
          "text": [
            "0.595595\n"
          ]
        }
      ]
    },
    {
      "cell_type": "markdown",
      "source": [],
      "metadata": {
        "id": "p1QaAmMSest0"
      }
    },
    {
      "cell_type": "markdown",
      "metadata": {
        "id": "cnCljYgpD04p"
      },
      "source": [
        "## 1. Conditional Statements\n",
        "\n",
        "(10 points)\n",
        "Translate the following MATLAB code into Python using `if-elif-else`.\n",
        "```\n",
        "n = input('Enter a number: ');\n",
        "\n",
        "switch n\n",
        "    case -1\n",
        "        disp('negative one')\n",
        "    case 0\n",
        "        disp('zero')\n",
        "    case 1\n",
        "        disp('positive one')\n",
        "    otherwise\n",
        "        disp('other value')\n",
        "end\n",
        "```"
      ]
    },
    {
      "cell_type": "code",
      "execution_count": 5,
      "metadata": {
        "collapsed": true,
        "id": "9d8vl5zjD04q",
        "colab": {
          "base_uri": "https://localhost:8080/"
        },
        "outputId": "97ba489c-58b6-429d-80f6-0c6fd97b1947"
      },
      "outputs": [
        {
          "output_type": "stream",
          "name": "stdout",
          "text": [
            "Enter a number: 1\n",
            "positive one\n"
          ]
        }
      ],
      "source": [
        "\n",
        "n = int(input(\"Enter a number: \"))\n",
        "\n",
        "if n == -1:\n",
        "    print(\"negative one\")\n",
        "elif n == 0:\n",
        "    print(\"zero\")\n",
        "elif n == 1:\n",
        "    print(\"positive one\")\n",
        "else:\n",
        "    print(\"other value\")\n"
      ]
    },
    {
      "cell_type": "markdown",
      "metadata": {
        "id": "sW9XiUPpD04s"
      },
      "source": [
        "## 2. While Loops\n",
        "\n",
        "(10 points) Write a Python program that calculates the factorial of a given number (you can assume an positive integer) using a while loop. Display the result to the console."
      ]
    },
    {
      "cell_type": "code",
      "execution_count": 8,
      "metadata": {
        "collapsed": true,
        "id": "CRCERx8uD04t",
        "colab": {
          "base_uri": "https://localhost:8080/"
        },
        "outputId": "5ef713de-e678-4976-e2be-c7dac777b5a4"
      },
      "outputs": [
        {
          "output_type": "stream",
          "name": "stdout",
          "text": [
            "Enter a positive integer: 13\n",
            "The factorial of 13 is 6227020800\n"
          ]
        }
      ],
      "source": [
        "n = int(input(\"Enter a positive integer: \"))\n",
        "\n",
        "factorial = 1\n",
        "i = 1\n",
        "\n",
        "while i <= n:\n",
        "    factorial *= i\n",
        "    i += 1\n",
        "\n",
        "print(\"The factorial of\", n, \"is\", factorial)\n",
        "\n",
        "\n",
        "\n",
        "# test cases\n",
        "# n = 17, Output: 355687428096000\n",
        "# n = 13, Output: 6227020800"
      ]
    },
    {
      "cell_type": "markdown",
      "metadata": {
        "id": "ZQ5SVMq6D04w"
      },
      "source": [
        "## 3. Functions\n",
        "\n",
        "(10 points) Write a function that determines if a number is prime."
      ]
    },
    {
      "cell_type": "code",
      "execution_count": 9,
      "metadata": {
        "colab": {
          "base_uri": "https://localhost:8080/"
        },
        "id": "6rGP5G3_D04x",
        "outputId": "31a020d7-2bda-46c6-f549-1e6105735127"
      },
      "outputs": [
        {
          "output_type": "stream",
          "name": "stdout",
          "text": [
            "True\n",
            "False\n",
            "True\n"
          ]
        }
      ],
      "source": [
        "def is_prime(n):\n",
        "    if n < 2:\n",
        "        return False\n",
        "    i = 2\n",
        "    while i * i <= n:\n",
        "        if n % i == 0:\n",
        "            return False\n",
        "        i += 1\n",
        "    return True\n",
        "\n",
        "# test cases\n",
        "print(is_prime(2))      # Output: True\n",
        "print(is_prime(10))     # Output: False\n",
        "print(is_prime(17))     # Output: True"
      ]
    },
    {
      "cell_type": "markdown",
      "metadata": {
        "id": "Z6qg-fpQD04u"
      },
      "source": [
        "## 4. List Comprehension\n",
        "\n",
        "(10 points) Write a Python function called `prime_factors` that takes a relatively small integer as input and returns a list of its distinct prime factors. The function should use list comprehension to generate the list of distinct prime factors. You may use the function is_prime() defined in Q3.\n"
      ]
    },
    {
      "cell_type": "code",
      "execution_count": 10,
      "metadata": {
        "collapsed": true,
        "id": "2hSCjYlOD04v",
        "colab": {
          "base_uri": "https://localhost:8080/"
        },
        "outputId": "4060a53d-ac58-4f58-8c91-a25671c8ab5d"
      },
      "outputs": [
        {
          "output_type": "stream",
          "name": "stdout",
          "text": [
            "[2, 3, 5]\n",
            "[2, 7]\n",
            "[2, 3, 11]\n",
            "[2, 29]\n"
          ]
        }
      ],
      "source": [
        "def prime_factors(n):\n",
        "    return [i for i in range(2, n + 1) if n % i == 0 and is_prime(i)]\n",
        "\n",
        "\n",
        "# test cases\n",
        "print(prime_factors(30))  # Output: [2, 3, 5]\n",
        "print(prime_factors(56))  # Output: [2, 7]\n",
        "print(prime_factors(198))  # Output: [2, 3, 11]\n",
        "print(prime_factors(464))  # Output: [2, 29]"
      ]
    },
    {
      "cell_type": "markdown",
      "metadata": {
        "id": "dw4kZZCiD040"
      },
      "source": [
        "## 5. Recursive Functions\n",
        "(25 points) Write a function that uses recursion to generate the $n$th row of the Pascal's triangle.\n",
        "```\n",
        "              1\n",
        "           1     1\n",
        "        1     2     1\n",
        "      1    3     3     1\n",
        "   1    4     6     4    1\n",
        "1     5    10    10    5    1\n",
        "...\n",
        "...\n",
        "...\n",
        "```"
      ]
    },
    {
      "cell_type": "code",
      "execution_count": 13,
      "metadata": {
        "id": "V8QFB_gKD040",
        "colab": {
          "base_uri": "https://localhost:8080/"
        },
        "outputId": "8d02e0d5-268c-4bd0-8479-a20bd469ba83"
      },
      "outputs": [
        {
          "output_type": "stream",
          "name": "stdout",
          "text": [
            "[1, 5, 10, 10, 5, 1]\n"
          ]
        }
      ],
      "source": [
        "def pascal(n):\n",
        "    # Base case\n",
        "    if n == 1:\n",
        "        return [1]\n",
        "\n",
        "    # Recursive case\n",
        "    prev_row = pascal(n - 1)\n",
        "    row = [1]\n",
        "    for i in range(1, len(prev_row)):\n",
        "        row.append(prev_row[i - 1] + prev_row[i])\n",
        "    row.append(1)\n",
        "\n",
        "    return row\n",
        "\n",
        "\n",
        "\n",
        "# test case\n",
        "print(pascal(6))  # output [1, 5, 10, 10, 5, 1]"
      ]
    },
    {
      "cell_type": "markdown",
      "metadata": {
        "id": "eZytgm0qD041"
      },
      "source": [
        "Rewrite the above function using only `while` or `for` loops instead of recursion."
      ]
    },
    {
      "cell_type": "code",
      "execution_count": 14,
      "metadata": {
        "collapsed": true,
        "id": "UZ8f-akaD041",
        "colab": {
          "base_uri": "https://localhost:8080/"
        },
        "outputId": "18a44a57-f1a2-43a6-800d-40101074e9e2"
      },
      "outputs": [
        {
          "output_type": "stream",
          "name": "stdout",
          "text": [
            "[1, 5, 10, 10, 5, 1]\n"
          ]
        }
      ],
      "source": [
        "def pascal_by_loops(n):\n",
        "    row = [1]\n",
        "    for i in range(n-1):\n",
        "        new_row = [1]\n",
        "        for j in range(1, len(row)):\n",
        "            new_row.append(row[j - 1] + row[j])\n",
        "        new_row.append(1)\n",
        "        row = new_row\n",
        "    return row\n",
        "\n",
        "\n",
        "print(pascal_by_loops(6))"
      ]
    },
    {
      "cell_type": "markdown",
      "metadata": {
        "id": "HvHD6QHzVo9I"
      },
      "source": [
        "\n",
        "\n",
        "---\n",
        "\n",
        "\n",
        "（5 points) good coding practice and properly submitting your work to GitHub."
      ]
    }
  ],
  "metadata": {
    "anaconda-cloud": {},
    "colab": {
      "provenance": []
    },
    "kernelspec": {
      "display_name": "Python 3",
      "language": "python",
      "name": "python3"
    },
    "language_info": {
      "codemirror_mode": {
        "name": "ipython",
        "version": 3
      },
      "file_extension": ".py",
      "mimetype": "text/x-python",
      "name": "python",
      "nbconvert_exporter": "python",
      "pygments_lexer": "ipython3",
      "version": "3.7.4"
    }
  },
  "nbformat": 4,
  "nbformat_minor": 0
}